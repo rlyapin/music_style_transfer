{
 "cells": [
  {
   "cell_type": "code",
   "execution_count": null,
   "metadata": {},
   "outputs": [],
   "source": [
    "import keras\n",
    "from keras import backend as K\n",
    "from keras.models import Model\n",
    "from keras.layers import Input, Dense, Reshape, Permute, Concatenate, Lambda\n",
    "from keras import optimizers\n",
    "import cv2\n",
    "import numpy as np\n",
    "import matplotlib.pyplot as plt"
   ]
  },
  {
   "cell_type": "code",
   "execution_count": null,
   "metadata": {},
   "outputs": [],
   "source": [
    "keras.__version__"
   ]
  },
  {
   "cell_type": "code",
   "execution_count": null,
   "metadata": {
    "collapsed": true
   },
   "outputs": [],
   "source": [
    "%matplotlib inline"
   ]
  },
  {
   "cell_type": "code",
   "execution_count": null,
   "metadata": {
    "collapsed": true
   },
   "outputs": [],
   "source": [
    "IMAGENET_MEANS = [0.40760392, 0.45795686, 0.48501961]\n",
    "# IMAGENET_MEANS = [103.939, 116.779, 123.68]\n",
    "\n",
    "def process_image(img):\n",
    "    processed_image = np.array(img).astype(np.float32)\n",
    "    processed_image /= 255\n",
    "    for x in range(3):\n",
    "        processed_image[:, :, x] -= IMAGENET_MEANS[x]\n",
    "    return processed_image\n",
    "        \n",
    "def restore_image(img):\n",
    "    restored_image = np.array(img)\n",
    "    for x in range(3):\n",
    "        restored_image[:, :, x] += IMAGENET_MEANS[x]\n",
    "    restored_image.clip(0, 1)\n",
    "    restored_image *= 255\n",
    "    return restored_image.astype(np.uint8)"
   ]
  },
  {
   "cell_type": "code",
   "execution_count": null,
   "metadata": {
    "collapsed": true
   },
   "outputs": [],
   "source": [
    "img = cv2.imread(\"../../data/images/VanGogh.jpg\", 1)\n",
    "img = cv2.resize(img, (224, 224))\n",
    "\n",
    "processed_img = process_image(img)"
   ]
  },
  {
   "cell_type": "code",
   "execution_count": null,
   "metadata": {},
   "outputs": [],
   "source": [
    "# plt.figure(figsize=(10, 10))\n",
    "plt.imshow(img[:, :, [2, 1, 0]])"
   ]
  },
  {
   "cell_type": "code",
   "execution_count": null,
   "metadata": {
    "collapsed": true
   },
   "outputs": [],
   "source": [
    "vgg16 = keras.applications.vgg16.VGG16(include_top=True, weights='imagenet', input_tensor=None, input_shape=None)\n",
    "for layer in vgg16.layers:\n",
    "    layer.trainable = False"
   ]
  },
  {
   "cell_type": "code",
   "execution_count": null,
   "metadata": {
    "collapsed": true
   },
   "outputs": [],
   "source": [
    "layer_pos_dict = {\"conv1_2\" : 2, \"conv2_2\" : 5, \"conv3_2\" : 8, \"conv4_2\" : 12, \"conv5_2\" : 16}\n",
    "layer_pick = \"conv1_2\"\n",
    "\n",
    "target_layer_shape = vgg16.layers[layer_pos_dict[layer_pick]].output_shape\n",
    "n_filters = target_layer_shape[-1]\n",
    "n_pixels = target_layer_shape[-2]"
   ]
  },
  {
   "cell_type": "code",
   "execution_count": null,
   "metadata": {
    "collapsed": true
   },
   "outputs": [],
   "source": [
    "input_proxy = Input(shape=(1,))\n",
    "image_pixels = Dense(224 * 224 * 3, use_bias=False)(input_proxy)\n",
    "input_image = Reshape((224, 224, 3))(image_pixels)\n",
    "last_layer = input_image\n",
    "for i in range(1, layer_pos_dict[layer_pick] + 1):\n",
    "    next_layer = vgg16.layers[i](last_layer)\n",
    "    last_layer = next_layer\n",
    "\n",
    "permute_layer = Permute((3, 1, 2), input_shape=target_layer_shape)(last_layer)\n",
    "reshape_layer = Reshape((n_filters, n_pixels * n_pixels))(permute_layer)   \n",
    "\n",
    "def gram_matrix(x):\n",
    "    return K.batch_dot(x, K.permute_dimensions(x, (0, 2, 1)))\n",
    "gram_layer = Lambda(gram_matrix, output_shape=(n_filters, n_filters))(reshape_layer)\n",
    "\n",
    "style_rebound_model = Model(inputs=input_proxy, outputs=gram_layer)"
   ]
  },
  {
   "cell_type": "code",
   "execution_count": null,
   "metadata": {},
   "outputs": [],
   "source": [
    "style_rebound_model.summary()"
   ]
  },
  {
   "cell_type": "code",
   "execution_count": null,
   "metadata": {},
   "outputs": [],
   "source": [
    "# for style_rebound_model.layers[3] (or 'block1_conv1'):\n",
    "# get_input_at(1) connects to original vgg16 model - 'input' layer\n",
    "# get_input_at(1) connects to style rebound model - 'reshape' layer\n",
    "get_gram_matrix = K.function([style_rebound_model.layers[3].get_input_at(1)],\n",
    "                             [style_rebound_model.layers[-1].output])\n",
    "img_input = np.expand_dims(processed_img, axis=0)\n",
    "target_gram_matrix = get_gram_matrix([img_input])[0]"
   ]
  },
  {
   "cell_type": "code",
   "execution_count": null,
   "metadata": {
    "collapsed": true
   },
   "outputs": [],
   "source": [
    "adam = keras.optimizers.Adam(lr=0.01, beta_1=0.9, beta_2=0.999, epsilon=1e-08, decay=0.0)\n",
    "style_rebound_model.compile(optimizer=adam, loss=\"mse\")"
   ]
  },
  {
   "cell_type": "code",
   "execution_count": null,
   "metadata": {},
   "outputs": [],
   "source": [
    "style_rebound_model.fit(np.ones((1,)), target_gram_matrix, epochs=500, verbose=1)"
   ]
  },
  {
   "cell_type": "code",
   "execution_count": null,
   "metadata": {
    "collapsed": true
   },
   "outputs": [],
   "source": [
    "recover_image = K.function([style_rebound_model.layers[0].input],\n",
    "                           [style_rebound_model.layers[2].output])\n",
    "output_image = recover_image([np.ones((1,1))])[0][0, :, :, :]\n",
    "restored_image = restore_image(output_image)"
   ]
  },
  {
   "cell_type": "code",
   "execution_count": null,
   "metadata": {},
   "outputs": [],
   "source": [
    "plt.figure(figsize=(15,15))\n",
    "plt.subplot(1, 2, 1)\n",
    "plt.imshow(restored_image[:, :, [2, 1, 0]])\n",
    "\n",
    "plt.subplot(1, 2, 2)\n",
    "plt.imshow(img[:, :, [2, 1, 0]])"
   ]
  }
 ],
 "metadata": {
  "kernelspec": {
   "display_name": "Python [conda env:dl_env]",
   "language": "python",
   "name": "conda-env-dl_env-py"
  },
  "language_info": {
   "codemirror_mode": {
    "name": "ipython",
    "version": 3
   },
   "file_extension": ".py",
   "mimetype": "text/x-python",
   "name": "python",
   "nbconvert_exporter": "python",
   "pygments_lexer": "ipython3",
   "version": "3.5.3"
  }
 },
 "nbformat": 4,
 "nbformat_minor": 2
}
